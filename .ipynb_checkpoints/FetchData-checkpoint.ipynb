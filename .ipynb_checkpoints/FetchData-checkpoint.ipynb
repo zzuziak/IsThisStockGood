{
 "cells": [
  {
   "cell_type": "code",
   "execution_count": 21,
   "id": "60a9b9d9",
   "metadata": {},
   "outputs": [],
   "source": [
    "from src.DataFetcher import DataFetcher\n",
    "from src.DataFetcher import fetchDataForTickerSymbol\n",
    "import finnhub\n",
    "import pandas as pd\n",
    "import csv\n",
    "\n",
    "api_key = \"c87rj2qad3iet0qj15eg\"\n",
    "finnhub_client = finnhub.Client(api_key=api_key)"
   ]
  },
  {
   "cell_type": "code",
   "execution_count": 17,
   "id": "fb1ce064",
   "metadata": {},
   "outputs": [
    {
     "name": "stdout",
     "output_type": "stream",
     "text": [
      "Collecting pandas\n",
      "  Downloading pandas-1.4.1-cp38-cp38-manylinux_2_17_x86_64.manylinux2014_x86_64.whl (11.7 MB)\n",
      "\u001b[K     |████████████████████████████████| 11.7 MB 8.1 MB/s eta 0:00:01\n",
      "\u001b[?25hCollecting numpy\n",
      "  Downloading numpy-1.22.2-cp38-cp38-manylinux_2_17_x86_64.manylinux2014_x86_64.whl (16.8 MB)\n",
      "\u001b[K     |████████████████████████████████| 16.8 MB 8.4 MB/s eta 0:00:01\n",
      "\u001b[?25hRequirement already satisfied: python-dateutil>=2.8.1 in /home/zuz/.pyenv/versions/3.8.6/envs/stock/lib/python3.8/site-packages (from pandas) (2.8.2)\n",
      "Collecting pytz>=2020.1\n",
      "  Downloading pytz-2021.3-py2.py3-none-any.whl (503 kB)\n",
      "\u001b[K     |████████████████████████████████| 503 kB 7.7 MB/s eta 0:00:01\n",
      "\u001b[?25hRequirement already satisfied: six>=1.5 in /home/zuz/.pyenv/versions/3.8.6/envs/stock/lib/python3.8/site-packages (from python-dateutil>=2.8.1->pandas) (1.16.0)\n",
      "Installing collected packages: pytz, numpy, pandas\n",
      "Successfully installed numpy-1.22.2 pandas-1.4.1 pytz-2021.3\n",
      "\u001b[33mWARNING: You are using pip version 20.2.1; however, version 22.0.3 is available.\n",
      "You should consider upgrading via the '/home/zuz/.pyenv/versions/3.8.6/envs/stock/bin/python3.8 -m pip install --upgrade pip' command.\u001b[0m\n"
     ]
    }
   ],
   "source": [
    "!pip install pandas numpy"
   ]
  },
  {
   "cell_type": "code",
   "execution_count": 2,
   "id": "ea1ff2fc",
   "metadata": {},
   "outputs": [],
   "source": [
    "fetcher = DataFetcher()"
   ]
  },
  {
   "cell_type": "code",
   "execution_count": 3,
   "id": "838b737f",
   "metadata": {},
   "outputs": [
    {
     "data": {
      "text/plain": [
       "<src.DataFetcher.DataFetcher at 0x7f11cc1f24c0>"
      ]
     },
     "execution_count": 3,
     "metadata": {},
     "output_type": "execute_result"
    }
   ],
   "source": [
    "fetcher"
   ]
  },
  {
   "cell_type": "code",
   "execution_count": 4,
   "id": "98a4e25f",
   "metadata": {},
   "outputs": [],
   "source": [
    "data = fetchDataForTickerSymbol(\"AAPL\")"
   ]
  },
  {
   "cell_type": "code",
   "execution_count": 5,
   "id": "af1da177",
   "metadata": {},
   "outputs": [
    {
     "data": {
      "text/plain": [
       "{'ticker': 'AAPL',\n",
       " 'name': 'Apple Inc.',\n",
       " 'roic': [51.7, 35.85, 30.37, 29.94],\n",
       " 'eps': [71.04, 23.51, 21.98, 18.96],\n",
       " 'sales': [33.26, 11.26, 11.15, 12.95],\n",
       " 'equity': [-8.22, -13.49, -7.99, -0.92],\n",
       " 'cash': [26.7, 13.18, 12.2, 9.39],\n",
       " 'long_term_debt': 31080000.0,\n",
       " 'free_cash_flow': 92953000000.0,\n",
       " 'debt_payoff_time': 0.00033436252729874237,\n",
       " 'debt_equity_ratio': 1.73,\n",
       " 'margin_of_safety_price': -1.250220785827409,\n",
       " 'current_price': 167.96,\n",
       " 'sticker_price': -2.500441571654818,\n",
       " 'payback_time': -1,\n",
       " 'average_volume': 20486772}"
      ]
     },
     "execution_count": 5,
     "metadata": {},
     "output_type": "execute_result"
    }
   ],
   "source": [
    "data"
   ]
  },
  {
   "cell_type": "code",
   "execution_count": 59,
   "id": "e201ad25",
   "metadata": {},
   "outputs": [],
   "source": [
    "# stock_exchanges = ['AS', 'AT', 'AX', 'BA', 'BC', 'BD', 'BE', 'BK', \n",
    "#                    'BO', 'BR', 'CA', 'CN', 'CO', 'CR', 'DB', 'DE', \n",
    "#                    'DU', 'F', 'HE', 'HK', 'HM', 'IC', 'IR', 'IS', \n",
    "#                    'JK', 'JO', 'KL', 'KQ', 'KS', 'L', 'LN', 'LS', \n",
    "#                    'MC', 'ME', 'MI', 'MU', 'MX', 'NE', 'NL', 'NS', \n",
    "#                    'NZ', 'OL', 'PA', 'PM', 'PR', 'QA', 'RG', 'SA', \n",
    "#                    'SG', 'SI', 'SN', 'SR', 'SS', 'ST', 'SW', 'SZ', \n",
    "#                    'T', 'TA', 'TL', 'TO']\n",
    "stock_exchanges = ['TW', 'TWO', 'US', 'V', 'VI', 'VN', 'VS', 'WA', 'HA', 'SX', 'TG', 'SC']\n",
    "# stock_exchanges = ['US']\n"
   ]
  },
  {
   "cell_type": "code",
   "execution_count": 56,
   "id": "84cededf",
   "metadata": {},
   "outputs": [],
   "source": [
    "tickers = []"
   ]
  },
  {
   "cell_type": "code",
   "execution_count": 60,
   "id": "2d1230a7",
   "metadata": {},
   "outputs": [],
   "source": [
    "for stock in stock_exchanges:\n",
    "    latest = stock\n",
    "    symbols = finnhub_client.stock_symbols(stock)\n",
    "    for symbol in symbols:\n",
    "        tickers.append(symbol['symbol'])"
   ]
  },
  {
   "cell_type": "code",
   "execution_count": 61,
   "id": "180df0a0",
   "metadata": {},
   "outputs": [
    {
     "data": {
      "text/plain": [
       "'SC'"
      ]
     },
     "execution_count": 61,
     "metadata": {},
     "output_type": "execute_result"
    }
   ],
   "source": [
    "latest"
   ]
  },
  {
   "cell_type": "code",
   "execution_count": null,
   "id": "ab231dda",
   "metadata": {},
   "outputs": [],
   "source": []
  },
  {
   "cell_type": "code",
   "execution_count": 66,
   "id": "5d09e46c",
   "metadata": {},
   "outputs": [
    {
     "data": {
      "text/plain": [
       "True"
      ]
     },
     "execution_count": 66,
     "metadata": {},
     "output_type": "execute_result"
    }
   ],
   "source": [
    "'AAPL' in tickers"
   ]
  },
  {
   "cell_type": "code",
   "execution_count": 65,
   "id": "a0fd60c0",
   "metadata": {},
   "outputs": [
    {
     "data": {
      "text/plain": [
       "['TMT.AX',\n",
       " 'TNR.AX',\n",
       " 'EPY.AX',\n",
       " 'ASW.AX',\n",
       " 'EZZ.AX',\n",
       " 'ALL.AX',\n",
       " 'POU.AX',\n",
       " 'IDX.AX',\n",
       " 'SI6.AX',\n",
       " 'SWF.AX',\n",
       " 'WAT.AX',\n",
       " 'TMH.AX',\n",
       " 'CTM.AX',\n",
       " 'MRZ.AX',\n",
       " 'OXX.AX',\n",
       " '8SA.AX',\n",
       " 'PWH.AX',\n",
       " 'HBA.AX',\n",
       " 'BBN.AX',\n",
       " 'INA.AX',\n",
       " 'TTI.AX',\n",
       " 'PLY.AX',\n",
       " 'SOL.AX',\n",
       " 'ALC.AX',\n",
       " 'QFE.AX',\n",
       " 'ALLCD.AX',\n",
       " '1VG.AX',\n",
       " 'MVR.AX',\n",
       " '7633081.AX',\n",
       " 'FFX.AX',\n",
       " 'NCZ.AX',\n",
       " 'AGJ.AX',\n",
       " 'EXP.AX',\n",
       " '1885220D.AX',\n",
       " 'TCXORC.AX',\n",
       " 'EFE.AX',\n",
       " 'PO3.AX',\n",
       " 'CHL.AX',\n",
       " 'MAF.AX',\n",
       " 'CYQ.AX',\n",
       " 'IMPQ.AX',\n",
       " 'IYLD.AX',\n",
       " 'IQX.AX',\n",
       " 'IQG.AX',\n",
       " 'PCK.AX',\n",
       " 'CUL.AX',\n",
       " 'CIA.AX',\n",
       " 'CXU.AX',\n",
       " '8CO.AX',\n",
       " 'AEAE.AX',\n",
       " 'NAG.AX',\n",
       " 'ECF.AX',\n",
       " 'IAA.AX',\n",
       " 'CKA.AX',\n",
       " 'LIS.AX',\n",
       " 'OFX.AX',\n",
       " 'SHE.AX',\n",
       " 'FZR.AX',\n",
       " 'MLD.AX',\n",
       " 'SKC.AX',\n",
       " 'RD1.AX',\n",
       " 'SRK.AX',\n",
       " 'SXLCD.AX',\n",
       " 'CI1.AX',\n",
       " 'CCV.AX',\n",
       " 'IMB.AX',\n",
       " 'ARU.AX',\n",
       " 'OZM.AX',\n",
       " 'ELD.AX',\n",
       " 'TLM.AX',\n",
       " 'VMY.AX',\n",
       " 'CWP.AX',\n",
       " 'CNB.AX',\n",
       " 'Z2U.AX',\n",
       " 'IJP.AX',\n",
       " 'STP.AX',\n",
       " 'FAL.AX',\n",
       " 'MRG.AX',\n",
       " 'BVS.AX',\n",
       " 'CTO.AX',\n",
       " 'A200CD.AX',\n",
       " 'DLT.AX',\n",
       " 'INL.AX',\n",
       " 'G1A.AX',\n",
       " 'FRX.AX',\n",
       " 'CR1.AX',\n",
       " 'RFX.AX',\n",
       " 'CSF.AX',\n",
       " 'TLG.AX',\n",
       " 'RIM.AX',\n",
       " 'VCF.AX',\n",
       " 'BAS.AX',\n",
       " 'MSV.AX',\n",
       " '1990133D.AX',\n",
       " 'TFL.AX',\n",
       " 'VOL.AX',\n",
       " 'WFTCD.AX',\n",
       " 'MRD.AX',\n",
       " 'FDV.AX',\n",
       " 'MRI.AX']"
      ]
     },
     "execution_count": 65,
     "metadata": {},
     "output_type": "execute_result"
    }
   ],
   "source": [
    "tickers[2111:2211]"
   ]
  },
  {
   "cell_type": "code",
   "execution_count": 67,
   "id": "9a97efd5",
   "metadata": {},
   "outputs": [],
   "source": [
    "with open('tickers.csv', 'w', newline='') as csvfile:\n",
    "    writer = csv.writer(csvfile, delimiter=',')\n",
    "    for ticker in tickers:\n",
    "        writer.writerow([ticker])\n",
    "        \n",
    "with open('tickers.csv', 'w') as csvfile:\n",
    "    writer = csv.DictWriter(csvfile, fieldnames=[\"ticker\"])\n",
    "    writer.writeheader()\n",
    "    for ticker in tickers:\n",
    "        writer.writerow([ticker])\n",
    "        \n",
    "\n"
   ]
  },
  {
   "cell_type": "code",
   "execution_count": 68,
   "id": "32db6713",
   "metadata": {},
   "outputs": [],
   "source": [
    "file_tickers = pd.read_csv('tickers.csv')"
   ]
  },
  {
   "cell_type": "code",
   "execution_count": 69,
   "id": "41b77dd9",
   "metadata": {},
   "outputs": [
    {
     "data": {
      "text/html": [
       "<div>\n",
       "<style scoped>\n",
       "    .dataframe tbody tr th:only-of-type {\n",
       "        vertical-align: middle;\n",
       "    }\n",
       "\n",
       "    .dataframe tbody tr th {\n",
       "        vertical-align: top;\n",
       "    }\n",
       "\n",
       "    .dataframe thead th {\n",
       "        text-align: right;\n",
       "    }\n",
       "</style>\n",
       "<table border=\"1\" class=\"dataframe\">\n",
       "  <thead>\n",
       "    <tr style=\"text-align: right;\">\n",
       "      <th></th>\n",
       "      <th>EFICT.AS</th>\n",
       "    </tr>\n",
       "  </thead>\n",
       "  <tbody>\n",
       "    <tr>\n",
       "      <th>0</th>\n",
       "      <td>BA261.AS</td>\n",
       "    </tr>\n",
       "    <tr>\n",
       "      <th>1</th>\n",
       "      <td>XS1626193228.AS</td>\n",
       "    </tr>\n",
       "    <tr>\n",
       "      <th>2</th>\n",
       "      <td>RWI.AS</td>\n",
       "    </tr>\n",
       "    <tr>\n",
       "      <th>3</th>\n",
       "      <td>VUTY.AS</td>\n",
       "    </tr>\n",
       "    <tr>\n",
       "      <th>4</th>\n",
       "      <td>XS0954910146.AS</td>\n",
       "    </tr>\n",
       "    <tr>\n",
       "      <th>...</th>\n",
       "      <td>...</td>\n",
       "    </tr>\n",
       "    <tr>\n",
       "      <th>255726</th>\n",
       "      <td>EF8R.HA</td>\n",
       "    </tr>\n",
       "    <tr>\n",
       "      <th>255727</th>\n",
       "      <td>OCBA.HA</td>\n",
       "    </tr>\n",
       "    <tr>\n",
       "      <th>255728</th>\n",
       "      <td>NLB3RB.HA</td>\n",
       "    </tr>\n",
       "    <tr>\n",
       "      <th>255729</th>\n",
       "      <td>GXE.HA</td>\n",
       "    </tr>\n",
       "    <tr>\n",
       "      <th>255730</th>\n",
       "      <td>A190W3.HA</td>\n",
       "    </tr>\n",
       "  </tbody>\n",
       "</table>\n",
       "<p>255731 rows × 1 columns</p>\n",
       "</div>"
      ],
      "text/plain": [
       "               EFICT.AS\n",
       "0              BA261.AS\n",
       "1       XS1626193228.AS\n",
       "2                RWI.AS\n",
       "3               VUTY.AS\n",
       "4       XS0954910146.AS\n",
       "...                 ...\n",
       "255726          EF8R.HA\n",
       "255727          OCBA.HA\n",
       "255728        NLB3RB.HA\n",
       "255729           GXE.HA\n",
       "255730        A190W3.HA\n",
       "\n",
       "[255731 rows x 1 columns]"
      ]
     },
     "execution_count": 69,
     "metadata": {},
     "output_type": "execute_result"
    }
   ],
   "source": [
    "file_tickers"
   ]
  },
  {
   "cell_type": "code",
   "execution_count": 19,
   "id": "3823a3f5",
   "metadata": {},
   "outputs": [],
   "source": [
    "df = pd.DataFrame(data)"
   ]
  },
  {
   "cell_type": "code",
   "execution_count": 20,
   "id": "d4568c6d",
   "metadata": {},
   "outputs": [
    {
     "data": {
      "text/html": [
       "<div>\n",
       "<style scoped>\n",
       "    .dataframe tbody tr th:only-of-type {\n",
       "        vertical-align: middle;\n",
       "    }\n",
       "\n",
       "    .dataframe tbody tr th {\n",
       "        vertical-align: top;\n",
       "    }\n",
       "\n",
       "    .dataframe thead th {\n",
       "        text-align: right;\n",
       "    }\n",
       "</style>\n",
       "<table border=\"1\" class=\"dataframe\">\n",
       "  <thead>\n",
       "    <tr style=\"text-align: right;\">\n",
       "      <th></th>\n",
       "      <th>ticker</th>\n",
       "      <th>name</th>\n",
       "      <th>roic</th>\n",
       "      <th>eps</th>\n",
       "      <th>sales</th>\n",
       "      <th>equity</th>\n",
       "      <th>cash</th>\n",
       "      <th>long_term_debt</th>\n",
       "      <th>free_cash_flow</th>\n",
       "      <th>debt_payoff_time</th>\n",
       "      <th>debt_equity_ratio</th>\n",
       "      <th>margin_of_safety_price</th>\n",
       "      <th>current_price</th>\n",
       "      <th>sticker_price</th>\n",
       "      <th>payback_time</th>\n",
       "      <th>average_volume</th>\n",
       "    </tr>\n",
       "  </thead>\n",
       "  <tbody>\n",
       "    <tr>\n",
       "      <th>0</th>\n",
       "      <td>AAPL</td>\n",
       "      <td>Apple Inc.</td>\n",
       "      <td>51.70</td>\n",
       "      <td>71.04</td>\n",
       "      <td>33.26</td>\n",
       "      <td>-8.22</td>\n",
       "      <td>26.70</td>\n",
       "      <td>31080000.0</td>\n",
       "      <td>9.295300e+10</td>\n",
       "      <td>0.000334</td>\n",
       "      <td>1.73</td>\n",
       "      <td>-1.250221</td>\n",
       "      <td>167.96</td>\n",
       "      <td>-2.500442</td>\n",
       "      <td>-1</td>\n",
       "      <td>20486772</td>\n",
       "    </tr>\n",
       "    <tr>\n",
       "      <th>1</th>\n",
       "      <td>AAPL</td>\n",
       "      <td>Apple Inc.</td>\n",
       "      <td>35.85</td>\n",
       "      <td>23.51</td>\n",
       "      <td>11.26</td>\n",
       "      <td>-13.49</td>\n",
       "      <td>13.18</td>\n",
       "      <td>31080000.0</td>\n",
       "      <td>9.295300e+10</td>\n",
       "      <td>0.000334</td>\n",
       "      <td>1.73</td>\n",
       "      <td>-1.250221</td>\n",
       "      <td>167.96</td>\n",
       "      <td>-2.500442</td>\n",
       "      <td>-1</td>\n",
       "      <td>20486772</td>\n",
       "    </tr>\n",
       "    <tr>\n",
       "      <th>2</th>\n",
       "      <td>AAPL</td>\n",
       "      <td>Apple Inc.</td>\n",
       "      <td>30.37</td>\n",
       "      <td>21.98</td>\n",
       "      <td>11.15</td>\n",
       "      <td>-7.99</td>\n",
       "      <td>12.20</td>\n",
       "      <td>31080000.0</td>\n",
       "      <td>9.295300e+10</td>\n",
       "      <td>0.000334</td>\n",
       "      <td>1.73</td>\n",
       "      <td>-1.250221</td>\n",
       "      <td>167.96</td>\n",
       "      <td>-2.500442</td>\n",
       "      <td>-1</td>\n",
       "      <td>20486772</td>\n",
       "    </tr>\n",
       "    <tr>\n",
       "      <th>3</th>\n",
       "      <td>AAPL</td>\n",
       "      <td>Apple Inc.</td>\n",
       "      <td>29.94</td>\n",
       "      <td>18.96</td>\n",
       "      <td>12.95</td>\n",
       "      <td>-0.92</td>\n",
       "      <td>9.39</td>\n",
       "      <td>31080000.0</td>\n",
       "      <td>9.295300e+10</td>\n",
       "      <td>0.000334</td>\n",
       "      <td>1.73</td>\n",
       "      <td>-1.250221</td>\n",
       "      <td>167.96</td>\n",
       "      <td>-2.500442</td>\n",
       "      <td>-1</td>\n",
       "      <td>20486772</td>\n",
       "    </tr>\n",
       "  </tbody>\n",
       "</table>\n",
       "</div>"
      ],
      "text/plain": [
       "  ticker        name   roic    eps  sales  equity   cash  long_term_debt  \\\n",
       "0   AAPL  Apple Inc.  51.70  71.04  33.26   -8.22  26.70      31080000.0   \n",
       "1   AAPL  Apple Inc.  35.85  23.51  11.26  -13.49  13.18      31080000.0   \n",
       "2   AAPL  Apple Inc.  30.37  21.98  11.15   -7.99  12.20      31080000.0   \n",
       "3   AAPL  Apple Inc.  29.94  18.96  12.95   -0.92   9.39      31080000.0   \n",
       "\n",
       "   free_cash_flow  debt_payoff_time  debt_equity_ratio  \\\n",
       "0    9.295300e+10          0.000334               1.73   \n",
       "1    9.295300e+10          0.000334               1.73   \n",
       "2    9.295300e+10          0.000334               1.73   \n",
       "3    9.295300e+10          0.000334               1.73   \n",
       "\n",
       "   margin_of_safety_price  current_price  sticker_price  payback_time  \\\n",
       "0               -1.250221         167.96      -2.500442            -1   \n",
       "1               -1.250221         167.96      -2.500442            -1   \n",
       "2               -1.250221         167.96      -2.500442            -1   \n",
       "3               -1.250221         167.96      -2.500442            -1   \n",
       "\n",
       "   average_volume  \n",
       "0        20486772  \n",
       "1        20486772  \n",
       "2        20486772  \n",
       "3        20486772  "
      ]
     },
     "execution_count": 20,
     "metadata": {},
     "output_type": "execute_result"
    }
   ],
   "source": [
    "df"
   ]
  },
  {
   "cell_type": "code",
   "execution_count": null,
   "id": "29c7a258",
   "metadata": {},
   "outputs": [],
   "source": []
  }
 ],
 "metadata": {
  "kernelspec": {
   "display_name": "Python 3 (ipykernel)",
   "language": "python",
   "name": "python3"
  },
  "language_info": {
   "codemirror_mode": {
    "name": "ipython",
    "version": 3
   },
   "file_extension": ".py",
   "mimetype": "text/x-python",
   "name": "python",
   "nbconvert_exporter": "python",
   "pygments_lexer": "ipython3",
   "version": "3.8.6"
  },
  "varInspector": {
   "cols": {
    "lenName": 16,
    "lenType": 16,
    "lenVar": 40
   },
   "kernels_config": {
    "python": {
     "delete_cmd_postfix": "",
     "delete_cmd_prefix": "del ",
     "library": "var_list.py",
     "varRefreshCmd": "print(var_dic_list())"
    },
    "r": {
     "delete_cmd_postfix": ") ",
     "delete_cmd_prefix": "rm(",
     "library": "var_list.r",
     "varRefreshCmd": "cat(var_dic_list()) "
    }
   },
   "types_to_exclude": [
    "module",
    "function",
    "builtin_function_or_method",
    "instance",
    "_Feature"
   ],
   "window_display": false
  }
 },
 "nbformat": 4,
 "nbformat_minor": 5
}

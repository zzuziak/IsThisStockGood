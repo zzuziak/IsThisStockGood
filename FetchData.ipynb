{
 "cells": [
  {
   "cell_type": "code",
   "execution_count": 1,
   "id": "f2dbc90e",
   "metadata": {},
   "outputs": [],
   "source": [
    "%load_ext autoreload\n",
    "%autoreload 2"
   ]
  },
  {
   "cell_type": "code",
   "execution_count": 4,
   "id": "60a9b9d9",
   "metadata": {},
   "outputs": [],
   "source": [
    "from src.DataFetcher import DataFetcher\n",
    "from src.DataFetcher import fetchDataForTickerSymbol\n",
    "import finnhub\n",
    "import pandas as pd\n",
    "import csv\n",
    "\n",
    "api_key = \"c87rj2qad3iet0qj15eg\"\n",
    "finnhub_client = finnhub.Client(api_key=api_key)"
   ]
  },
  {
   "cell_type": "code",
   "execution_count": 19,
   "id": "98a4e25f",
   "metadata": {},
   "outputs": [],
   "source": [
    "data = fetchDataForTickerSymbol(\"AAPL\")"
   ]
  },
  {
   "cell_type": "code",
   "execution_count": 20,
   "id": "af1da177",
   "metadata": {
    "scrolled": true
   },
   "outputs": [
    {
     "data": {
      "text/plain": [
       "{'ticker': 'AAPL',\n",
       " 'name': 'Apple Inc.',\n",
       " 'roic-10': 29.94,\n",
       " 'roic-5': 30.37,\n",
       " 'roic-3': 35.85,\n",
       " 'roic-yoy': 51.7,\n",
       " 'eps-10': 18.96,\n",
       " 'eps-5': 21.98,\n",
       " 'eps-3': 23.51,\n",
       " 'eps-yoy': 71.04,\n",
       " 'sales-10': 12.95,\n",
       " 'sales-5': 11.15,\n",
       " 'sales-3': 11.26,\n",
       " 'sales-yoy': 33.26,\n",
       " 'equity-10': -0.92,\n",
       " 'equity-5': -7.99,\n",
       " 'equity-3': -13.49,\n",
       " 'equity-yoy': -8.22,\n",
       " 'cash-10': 9.39,\n",
       " 'cash-5': 12.2,\n",
       " 'cash-3': 13.18,\n",
       " 'cash-yoy': 26.7,\n",
       " 'long_term_debt': 31080000.0,\n",
       " 'free_cash_flow': 92953000000.0,\n",
       " 'debt_payoff_time': 0.00033436252729874237,\n",
       " 'debt_equity_ratio': 1.73,\n",
       " 'margin_of_safety_price': -1.250220785827409,\n",
       " 'current_price': 167.77,\n",
       " 'sticker_price': -2.500441571654818,\n",
       " 'payback_time': -1,\n",
       " 'average_volume': 34207289}"
      ]
     },
     "execution_count": 20,
     "metadata": {},
     "output_type": "execute_result"
    }
   ],
   "source": [
    "data"
   ]
  },
  {
   "cell_type": "code",
   "execution_count": 21,
   "id": "88d2f974",
   "metadata": {},
   "outputs": [],
   "source": [
    "df = pd.DataFrame(data, index=['ticker'])\n"
   ]
  },
  {
   "cell_type": "code",
   "execution_count": 24,
   "id": "67ff6f9d",
   "metadata": {},
   "outputs": [
    {
     "data": {
      "text/html": [
       "<div>\n",
       "<style scoped>\n",
       "    .dataframe tbody tr th:only-of-type {\n",
       "        vertical-align: middle;\n",
       "    }\n",
       "\n",
       "    .dataframe tbody tr th {\n",
       "        vertical-align: top;\n",
       "    }\n",
       "\n",
       "    .dataframe thead th {\n",
       "        text-align: right;\n",
       "    }\n",
       "</style>\n",
       "<table border=\"1\" class=\"dataframe\">\n",
       "  <thead>\n",
       "    <tr style=\"text-align: right;\">\n",
       "      <th></th>\n",
       "      <th>ticker</th>\n",
       "      <th>name</th>\n",
       "      <th>roic-10</th>\n",
       "      <th>roic-5</th>\n",
       "      <th>roic-3</th>\n",
       "      <th>roic-yoy</th>\n",
       "      <th>eps-10</th>\n",
       "      <th>eps-5</th>\n",
       "      <th>eps-3</th>\n",
       "      <th>eps-yoy</th>\n",
       "      <th>...</th>\n",
       "      <th>cash-yoy</th>\n",
       "      <th>long_term_debt</th>\n",
       "      <th>free_cash_flow</th>\n",
       "      <th>debt_payoff_time</th>\n",
       "      <th>debt_equity_ratio</th>\n",
       "      <th>margin_of_safety_price</th>\n",
       "      <th>current_price</th>\n",
       "      <th>sticker_price</th>\n",
       "      <th>payback_time</th>\n",
       "      <th>average_volume</th>\n",
       "    </tr>\n",
       "  </thead>\n",
       "  <tbody>\n",
       "    <tr>\n",
       "      <th>ticker</th>\n",
       "      <td>AAPL</td>\n",
       "      <td>Apple Inc.</td>\n",
       "      <td>29.94</td>\n",
       "      <td>30.37</td>\n",
       "      <td>35.85</td>\n",
       "      <td>51.7</td>\n",
       "      <td>18.96</td>\n",
       "      <td>21.98</td>\n",
       "      <td>23.51</td>\n",
       "      <td>71.04</td>\n",
       "      <td>...</td>\n",
       "      <td>26.7</td>\n",
       "      <td>31080000.0</td>\n",
       "      <td>9.295300e+10</td>\n",
       "      <td>0.000334</td>\n",
       "      <td>1.73</td>\n",
       "      <td>-1.250221</td>\n",
       "      <td>167.77</td>\n",
       "      <td>-2.500442</td>\n",
       "      <td>-1</td>\n",
       "      <td>34207289</td>\n",
       "    </tr>\n",
       "  </tbody>\n",
       "</table>\n",
       "<p>1 rows × 31 columns</p>\n",
       "</div>"
      ],
      "text/plain": [
       "       ticker        name  roic-10  roic-5  roic-3  roic-yoy  eps-10  eps-5  \\\n",
       "ticker   AAPL  Apple Inc.    29.94   30.37   35.85      51.7   18.96  21.98   \n",
       "\n",
       "        eps-3  eps-yoy  ...  cash-yoy  long_term_debt  free_cash_flow  \\\n",
       "ticker  23.51    71.04  ...      26.7      31080000.0    9.295300e+10   \n",
       "\n",
       "        debt_payoff_time  debt_equity_ratio  margin_of_safety_price  \\\n",
       "ticker          0.000334               1.73               -1.250221   \n",
       "\n",
       "        current_price  sticker_price  payback_time  average_volume  \n",
       "ticker         167.77      -2.500442            -1        34207289  \n",
       "\n",
       "[1 rows x 31 columns]"
      ]
     },
     "execution_count": 24,
     "metadata": {},
     "output_type": "execute_result"
    }
   ],
   "source": [
    "df[df['roic-yoy'] > 51]"
   ]
  },
  {
   "cell_type": "code",
   "execution_count": null,
   "id": "8c6cec5c",
   "metadata": {},
   "outputs": [],
   "source": []
  }
 ],
 "metadata": {
  "kernelspec": {
   "display_name": "Python 3 (ipykernel)",
   "language": "python",
   "name": "python3"
  },
  "language_info": {
   "codemirror_mode": {
    "name": "ipython",
    "version": 3
   },
   "file_extension": ".py",
   "mimetype": "text/x-python",
   "name": "python",
   "nbconvert_exporter": "python",
   "pygments_lexer": "ipython3",
   "version": "3.8.6"
  },
  "varInspector": {
   "cols": {
    "lenName": 16,
    "lenType": 16,
    "lenVar": 40
   },
   "kernels_config": {
    "python": {
     "delete_cmd_postfix": "",
     "delete_cmd_prefix": "del ",
     "library": "var_list.py",
     "varRefreshCmd": "print(var_dic_list())"
    },
    "r": {
     "delete_cmd_postfix": ") ",
     "delete_cmd_prefix": "rm(",
     "library": "var_list.r",
     "varRefreshCmd": "cat(var_dic_list()) "
    }
   },
   "types_to_exclude": [
    "module",
    "function",
    "builtin_function_or_method",
    "instance",
    "_Feature"
   ],
   "window_display": false
  }
 },
 "nbformat": 4,
 "nbformat_minor": 5
}
